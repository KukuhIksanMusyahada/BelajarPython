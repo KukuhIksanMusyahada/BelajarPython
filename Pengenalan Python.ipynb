{
 "cells": [
  {
   "cell_type": "markdown",
   "id": "b01ecfa7-0268-4d8a-8b50-efdfbd1090f2",
   "metadata": {},
   "source": [
    "Python adalah bahasa yang sangat populer. Python memiliki banyak kegunaan seperti,\n",
    "- Web Development\n",
    "- Software Development\n",
    "- Data Analis \n",
    "- Data sains, dll.  \n",
    "Python sendiri memiliki banyak keunggulan yaitu:\n",
    "- Merupakan high level general purpose language\n",
    "- Memiliki banyak *library* yang dapat digunakan sesuai kebutuhan seperti: numpy, pandas, seaborn, dll.\n",
    "- Memiliki komunitas yang besar dan support komunitas yang sangat baik"
   ]
  },
  {
   "cell_type": "markdown",
   "id": "e91b4ec4-663d-4bf5-bfc6-e040ff965116",
   "metadata": {},
   "source": [
    "Python merupakan case sensitive yang membuat besar kecil huruf yang digunakan untuk mendefinisikan sebuah variabel berpengaruh!"
   ]
  },
  {
   "cell_type": "code",
   "execution_count": 2,
   "id": "4bb5e3e6-654d-4d5d-8bf4-f9888ddf815d",
   "metadata": {},
   "outputs": [
    {
     "name": "stdout",
     "output_type": "stream",
     "text": [
      "Variabel huruf kecil  1\n",
      "Variabel huruf besar  2\n"
     ]
    }
   ],
   "source": [
    "angka = 1\n",
    "Angka = 2\n",
    "print('Variabel huruf kecil ' ,angka)\n",
    "print('Variabel huruf besar ',Angka)"
   ]
  },
  {
   "cell_type": "code",
   "execution_count": 3,
   "id": "29068425-68b2-4ef7-af9b-690552c60eba",
   "metadata": {},
   "outputs": [
    {
     "name": "stdout",
     "output_type": "stream",
     "text": [
      "Variabel huruf kecil  3\n",
      "Variabel huruf besar  4\n"
     ]
    }
   ],
   "source": [
    "#demikian juga jika kita membuat variabel dengan kombinasi huruf besar dan kecil dari huruf didalam kata 'angka'\n",
    "ANgka = 3\n",
    "ANGka = 4\n",
    "print('Variabel huruf kecil ' ,ANgka)\n",
    "print('Variabel huruf besar ',ANGka)"
   ]
  },
  {
   "cell_type": "markdown",
   "id": "d9f01c60-6c60-40ed-9390-5cc586540b30",
   "metadata": {},
   "source": [
    "Dalam python indentasi atau spasi diawal baris sangat berpengaruh! kesalahan indentasi dapat membuat kode menghasilkan error!"
   ]
  },
  {
   "cell_type": "code",
   "execution_count": 5,
   "id": "bbc5fc93-ef37-40c5-afc8-0f5ce2343ab6",
   "metadata": {},
   "outputs": [
    {
     "ename": "IndentationError",
     "evalue": "unexpected indent (<ipython-input-5-aa26bc5a625d>, line 2)",
     "output_type": "error",
     "traceback": [
      "\u001b[1;36m  File \u001b[1;32m\"<ipython-input-5-aa26bc5a625d>\"\u001b[1;36m, line \u001b[1;32m2\u001b[0m\n\u001b[1;33m    Angka = 2\u001b[0m\n\u001b[1;37m    ^\u001b[0m\n\u001b[1;31mIndentationError\u001b[0m\u001b[1;31m:\u001b[0m unexpected indent\n"
     ]
    }
   ],
   "source": [
    "angka = 1\n",
    " Angka = 2\n",
    "print('Variabel huruf kecil ' ,angka)\n",
    "print('Variabel huruf besar ',Angka)"
   ]
  },
  {
   "cell_type": "markdown",
   "id": "b93ee7ec-b7b6-46d3-a332-534bd856aa08",
   "metadata": {},
   "source": [
    "Python sangat mudah digunakan karena memiliki sintax yang sangat mirip dengan bahasa inggris dan mudah untuk menentukan penyebab eror dalam suatu code. Lihat kode perulangan berikut."
   ]
  },
  {
   "cell_type": "code",
   "execution_count": 6,
   "id": "5b32e599-54be-4277-acad-36b2bc54092c",
   "metadata": {},
   "outputs": [
    {
     "name": "stdout",
     "output_type": "stream",
     "text": [
      "1\n",
      "4\n",
      "9\n",
      "16\n"
     ]
    }
   ],
   "source": [
    "numbers = [1, 2, 3, 4]\n",
    "for number in numbers:\n",
    "    print(number**2)"
   ]
  },
  {
   "cell_type": "markdown",
   "id": "b8b5194f-a527-4e02-abcd-1c8022540088",
   "metadata": {},
   "source": [
    "Kode tersebut sangat mudah dipahami karena pada dasarnya hanya bertuliskan untuk suatu angka dalam kumpulan angka cetak $angka^{2}$"
   ]
  },
  {
   "attachments": {
    "b822aa4c-5ebb-4cb8-aab4-79cd8ed3b6bd.png": {
     "image/png": "[encoded data removed]"
    }
   },
   "cell_type": "markdown",
   "id": "0b626c99-77bc-4f71-bf60-cc58f4730635",
   "metadata": {},
   "source": [
    "![image.png](attachment:b822aa4c-5ebb-4cb8-aab4-79cd8ed3b6bd.png)  \n",
    "Lihat dalam eror tersebut telah ditunjukan bahwa penyebab eror adalah indent yang tidak sesuai"
   ]
  },
  {
   "cell_type": "markdown",
   "id": "e5be64ba-7960-432d-853f-a168a7941c5b",
   "metadata": {},
   "source": [
    "Secara umum python mengartikan sebuah baris kode dengan urutan REPL yaitu,  \n",
    "1. Read = Membaca kodenya\n",
    "2. Eval = Mengevaluasi kodenya\n",
    "3. Print = Mencetak output dari evaluasi\n",
    "4. Loop = Lakukan perulangan jika dibutuhkan"
   ]
  },
  {
   "cell_type": "markdown",
   "id": "d368296b-d253-47d4-a26a-8f3b4c8ab22e",
   "metadata": {},
   "source": [
    "Setiap bahasa pemprograman memiliki bawaan keyword! Dalam python terbaru memiliki 33 keyword yaitu:"
   ]
  },
  {
   "cell_type": "markdown",
   "id": "3461a588-9427-4321-a0c5-c3ed762a724e",
   "metadata": {},
   "source": [
    "1. Boolean Keyword  \n",
    "    Boolean adalah salah satu datatype dalam bahasa pemprograman yang bernilai benar atau salah. Untuk menyediakan hal tersebut python menyediakan dua keyword yaitu:\n",
    "    1. True\n",
    "    2. False"
   ]
  },
  {
   "cell_type": "code",
   "execution_count": 13,
   "id": "69532b2b-3237-4898-bfb8-e8eaec7171ef",
   "metadata": {},
   "outputs": [
    {
     "name": "stdout",
     "output_type": "stream",
     "text": [
      "True\n",
      "False\n"
     ]
    }
   ],
   "source": [
    "A = True #dituliskan dengan kapital \"T\"\n",
    "B = False #dituliskan dengan kapital \"F\"\n",
    "print(A)\n",
    "print(B)"
   ]
  },
  {
   "cell_type": "code",
   "execution_count": 15,
   "id": "db800f11-df81-4f55-82fd-6968ff8ce0c3",
   "metadata": {},
   "outputs": [
    {
     "ename": "NameError",
     "evalue": "name 'true' is not defined",
     "output_type": "error",
     "traceback": [
      "\u001b[1;31m---------------------------------------------------------------------------\u001b[0m",
      "\u001b[1;31mNameError\u001b[0m                                 Traceback (most recent call last)",
      "\u001b[1;32m<ipython-input-15-309420c801d4>\u001b[0m in \u001b[0;36m<module>\u001b[1;34m\u001b[0m\n\u001b[0;32m      1\u001b[0m \u001b[1;31m#Ingat python adalah case sensitive sehingga akan bernilai eror jika ditulis dengan kata 't'rue ataupun 'f'alse\u001b[0m\u001b[1;33m\u001b[0m\u001b[1;33m\u001b[0m\u001b[1;33m\u001b[0m\u001b[0m\n\u001b[1;32m----> 2\u001b[1;33m \u001b[0mA\u001b[0m \u001b[1;33m=\u001b[0m \u001b[0mtrue\u001b[0m \u001b[1;31m#dituliskan dengan kapital \"T\"\u001b[0m\u001b[1;33m\u001b[0m\u001b[1;33m\u001b[0m\u001b[0m\n\u001b[0m\u001b[0;32m      3\u001b[0m \u001b[0mB\u001b[0m \u001b[1;33m=\u001b[0m \u001b[0mfalse\u001b[0m \u001b[1;31m#dituliskan dengan kapital \"F\"\u001b[0m\u001b[1;33m\u001b[0m\u001b[1;33m\u001b[0m\u001b[0m\n\u001b[0;32m      4\u001b[0m \u001b[0mprint\u001b[0m\u001b[1;33m(\u001b[0m\u001b[0mA\u001b[0m\u001b[1;33m)\u001b[0m\u001b[1;33m\u001b[0m\u001b[1;33m\u001b[0m\u001b[0m\n\u001b[0;32m      5\u001b[0m \u001b[0mprint\u001b[0m\u001b[1;33m(\u001b[0m\u001b[0mB\u001b[0m\u001b[1;33m)\u001b[0m\u001b[1;33m\u001b[0m\u001b[1;33m\u001b[0m\u001b[0m\n",
      "\u001b[1;31mNameError\u001b[0m: name 'true' is not defined"
     ]
    }
   ],
   "source": [
    "#Ingat python adalah case sensitive sehingga akan bernilai eror jika ditulis dengan kata 't'rue ataupun 'f'alse\n",
    "A = true #dituliskan dengan kapital \"T\"\n",
    "B = false #dituliskan dengan kapital \"F\"\n",
    "print(A)\n",
    "print(B)"
   ]
  },
  {
   "cell_type": "markdown",
   "id": "d36a8697-2c40-421c-89b8-c44515e5bd70",
   "metadata": {},
   "source": [
    "2. Logic Keyword  \n",
    "   Terdiri dari berbagai keyword yang dapat digunakan untuk membuat statement logika. Keyword tersebut terdiri dari.\n",
    "   1. and\n",
    "   2. or\n",
    "   3. not"
   ]
  },
  {
   "cell_type": "code",
   "execution_count": 9,
   "id": "61591429-deac-4f46-ac5d-b25a0338d7eb",
   "metadata": {},
   "outputs": [
    {
     "name": "stdout",
     "output_type": "stream",
     "text": [
      "False\n",
      "True\n",
      "False\n"
     ]
    }
   ],
   "source": [
    "\"\"\"\n",
    "and digunakan untuk untuk membuat logika 'dan' \n",
    "\"\"\"\n",
    "A = True\n",
    "B = False\n",
    "\n",
    "C = A and B\n",
    "D = A and A\n",
    "E = B and B\n",
    "print(C)\n",
    "print(D)\n",
    "print(E)"
   ]
  },
  {
   "cell_type": "code",
   "execution_count": 10,
   "id": "2f5e6e3e-d55b-4afe-81fb-bbd8ca36e22d",
   "metadata": {},
   "outputs": [
    {
     "name": "stdout",
     "output_type": "stream",
     "text": [
      "True\n",
      "True\n",
      "False\n"
     ]
    }
   ],
   "source": [
    "\"\"\"\n",
    "or digunakan untuk membuat logika 'atau'\n",
    "\"\"\"\n",
    "C = A or B\n",
    "D = A or A\n",
    "E = B or B\n",
    "print(C)\n",
    "print(D)\n",
    "print(E)"
   ]
  },
  {
   "cell_type": "code",
   "execution_count": 12,
   "id": "253f01d0-ce7a-4d05-8e6b-3980f2c5b80b",
   "metadata": {},
   "outputs": [
    {
     "name": "stdout",
     "output_type": "stream",
     "text": [
      "False\n",
      "True\n",
      "False\n",
      "True\n"
     ]
    }
   ],
   "source": [
    "\"\"\"\n",
    "not digunakan untuk membuat negasi atau membentuk logika NOT, NAND, NOR\"\"\"\n",
    "C = not A\n",
    "D = not B\n",
    "E = not (A or B)\n",
    "F = not (A and B)\n",
    "print(C)\n",
    "print(D)\n",
    "print(E)\n",
    "print(F)"
   ]
  },
  {
   "cell_type": "markdown",
   "id": "b859de3f-5577-4443-85f4-54181f23e2a0",
   "metadata": {},
   "source": [
    "2. Conditional Control Keywork.  \n",
    "Conditional control bekerja layaknya logical keyword dan dapat digabungkan dengan penggunaan logical keyword. Conditional cntrol keyword terdiri dari beberapa keyword yaitu:\n",
    "    1. If\n",
    "    2. Else\n",
    "    3. Elif"
   ]
  },
  {
   "cell_type": "code",
   "execution_count": 16,
   "id": "6152e322-fc19-4994-98dd-f44878cd3a1a",
   "metadata": {},
   "outputs": [
    {
     "name": "stdout",
     "output_type": "stream",
     "text": [
      "A bernilai kurang dari 10\n"
     ]
    }
   ],
   "source": [
    "A = 9\n",
    "if A<10:\n",
    "    print('A bernilai kurang dari 10')"
   ]
  },
  {
   "cell_type": "markdown",
   "id": "7b344a68-0359-4673-8236-28c24ba0fd3e",
   "metadata": {},
   "source": [
    "Kode diatas tidak akan menunjukan output jika nilai A lebih dari atau sama dengan 10 karena tidak ada kondisi yang menyebutkan apa yang harus dilakukan komputer jika nilai A lebih dari atau sama dengan 10"
   ]
  },
  {
   "cell_type": "code",
   "execution_count": 24,
   "id": "3061d8c9-96c3-4cd3-8803-d1d119a5ebe0",
   "metadata": {},
   "outputs": [],
   "source": [
    "A = 10\n",
    "if A<10:\n",
    "    print('A bernilai kurang dari 10')"
   ]
  },
  {
   "cell_type": "markdown",
   "id": "a2b133c5-6165-443f-bbdb-835049252848",
   "metadata": {},
   "source": [
    "Hal tersebutlah fungsi dari else dan else if yang akan membuat percabangan, penjelasan lebih lanjut akan berada dalam control flow"
   ]
  },
  {
   "cell_type": "code",
   "execution_count": 26,
   "id": "5e375fb5-504b-4e04-85b7-550ac2ea4462",
   "metadata": {},
   "outputs": [
    {
     "name": "stdout",
     "output_type": "stream",
     "text": [
      "A bernilai positif lebih dari atau sama dengan 10\n"
     ]
    }
   ],
   "source": [
    "if A<10:\n",
    "    print('A bernilai positif kurang dari 10')\n",
    "elif A<0:\n",
    "    print('A bernilai negatif')\n",
    "else:\n",
    "    print('A bernilai positif lebih dari atau sama dengan 10')"
   ]
  },
  {
   "cell_type": "markdown",
   "id": "84947500-2de0-42e0-bce1-4465f90c8824",
   "metadata": {},
   "source": [
    "Python sangat memperhatikan whitespace atau indentation sehingga kode akan eror jika kita berikan indentation yang berbeda! bedakan kode diatas dengan kode berikut!"
   ]
  },
  {
   "cell_type": "code",
   "execution_count": 27,
   "id": "32c2033b-1a77-49b3-a2f3-6aa051be186d",
   "metadata": {},
   "outputs": [
    {
     "ename": "SyntaxError",
     "evalue": "invalid syntax (<ipython-input-27-a8d1642c7a4d>, line 4)",
     "output_type": "error",
     "traceback": [
      "\u001b[1;36m  File \u001b[1;32m\"<ipython-input-27-a8d1642c7a4d>\"\u001b[1;36m, line \u001b[1;32m4\u001b[0m\n\u001b[1;33m    elif A<0:\u001b[0m\n\u001b[1;37m    ^\u001b[0m\n\u001b[1;31mSyntaxError\u001b[0m\u001b[1;31m:\u001b[0m invalid syntax\n"
     ]
    }
   ],
   "source": [
    "A = 10\n",
    "if A<10:\n",
    "    print('A bernilai positif kurang dari 10')\n",
    "    elif A<0:\n",
    "    print('A bernilai negatif')\n",
    "else:\n",
    "    print('A bernilai positif lebih dari atau sama dengan 10')"
   ]
  },
  {
   "cell_type": "markdown",
   "id": "545b51f1-844d-427d-a4c3-d7d1cfc3dcee",
   "metadata": {},
   "source": [
    "Kode tersebut akan tetap menghasilkan output A bernilai positif kurang dari 10 walaupun A merupakan bilangan negatif! hal tersebut dapat diselesaikan dengan mengabungkan dengan logic keyword untuk menghasilkan output yang sesuai!"
   ]
  },
  {
   "cell_type": "code",
   "execution_count": 29,
   "id": "579f8102-4ed3-4868-bf37-2680b3086e79",
   "metadata": {},
   "outputs": [
    {
     "name": "stdout",
     "output_type": "stream",
     "text": [
      "A bernilai negatif\n"
     ]
    }
   ],
   "source": [
    "A = -1\n",
    "if A<10 and A>0:\n",
    "    print('A bernilai positif kurang dari 10')\n",
    "elif A<0:\n",
    "    print('A bernilai negatif')\n",
    "else:\n",
    "    print('A bernilai positif lebih dari 10')"
   ]
  },
  {
   "cell_type": "markdown",
   "id": "eaa84db3-55cd-4cb2-8201-03f7ce60908a",
   "metadata": {},
   "source": [
    "3. Looping atau logika perulangan!\n",
    "    Untuk menyediakan statement yang mampu melakukan logika perulangan python menyediakan beberapa keyword yaitu sebagai berikut:\n",
    "    1. For\n",
    "    2. While \n",
    "    3. Break\n",
    "    4. in"
   ]
  },
  {
   "cell_type": "code",
   "execution_count": null,
   "id": "be321803-9a12-45f3-a25a-7671e65a3951",
   "metadata": {},
   "outputs": [],
   "source": []
  }
 ],
 "metadata": {
  "kernelspec": {
   "display_name": "Python 3",
   "language": "python",
   "name": "python3"
  },
  "language_info": {
   "codemirror_mode": {
    "name": "ipython",
    "version": 3
   },
   "file_extension": ".py",
   "mimetype": "text/x-python",
   "name": "python",
   "nbconvert_exporter": "python",
   "pygments_lexer": "ipython3",
   "version": "3.8.8"
  }
 },
 "nbformat": 4,
 "nbformat_minor": 5
}
